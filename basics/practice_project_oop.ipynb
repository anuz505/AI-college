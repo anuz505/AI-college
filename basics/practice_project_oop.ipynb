{
 "cells": [
  {
   "cell_type": "code",
   "execution_count": 12,
   "metadata": {},
   "outputs": [],
   "source": [
    "class Transaction:\n",
    "    def __init__(self,amount,description):\n",
    "        self.amount = amount\n",
    "        self.description = description\n",
    "class Income(Transaction):\n",
    "    pass\n",
    "\n",
    "class Expense(Transaction):\n",
    "    pass\n"
   ]
  },
  {
   "cell_type": "code",
   "execution_count": 13,
   "metadata": {},
   "outputs": [],
   "source": [
    "class FinanceManager():\n",
    "    def __init__(self):\n",
    "        self.transactions = []\n",
    "        self.savings = 0\n",
    "        self.saving_goal = 0\n",
    "\n",
    "    def add_income(self,amount,description):\n",
    "        self.transactions.append(Income(amount,description))\n",
    "        self.savings += amount\n",
    "        print(f'Added {amount} to savings')\n",
    "\n",
    "    def add_expense(self,amount,description):\n",
    "        if amount > self.savings:\n",
    "            print('Not enough savings')\n",
    "        else:\n",
    "            self.transactions.append(Expense(amount,description))\n",
    "            self.savings -= amount\n",
    "            print(f'Spent {amount} from savings')\n",
    "\n",
    "    def set_saving_goal(self,amount):\n",
    "        self.saving_goal = amount\n",
    "        print(f'Saving goal set to {amount}')\n",
    "\n",
    "    def view_summary(self):\n",
    "            print(\"\\n--- Finance Summary ---\")\n",
    "            total_income = sum(t.amount for t in self.transactions if isinstance(t, Income))\n",
    "            total_expense = sum(t.amount for t in self.transactions if isinstance(t, Expense))\n",
    "            print(f'Total income: {total_income}')\n",
    "            print(f'Total expenses: {total_expense}')\n",
    "            print(f'Savings: {self.savings}')\n",
    "            print(f'Saving goal: {self.saving_goal}')\n",
    "            print(\"\\n Transactions:\")\n",
    "            for t in self.transactions:\n",
    "                print(f'{t.amount} - {t.description}')\n",
    "            print(\"\\n--- End of Summary ---\")\n",
    "\n"
   ]
  },
  {
   "cell_type": "code",
   "execution_count": 14,
   "metadata": {},
   "outputs": [
    {
     "name": "stdout",
     "output_type": "stream",
     "text": [
      "Added 2000 to savings\n",
      "Spent 100 from savings\n",
      "Spent 50 from savings\n",
      "Saving goal set to 1000\n",
      "\n",
      "--- Finance Summary ---\n",
      "Total income: 2000\n",
      "Total expenses: 150\n",
      "Savings: 1850\n",
      "Saving goal: 1000\n",
      "\n",
      " Transactions:\n",
      "2000 - side hustle\n",
      "100 - hike\n",
      "50 - khaja\n",
      "\n",
      "--- End of Summary ---\n"
     ]
    }
   ],
   "source": [
    "me = FinanceManager()\n",
    "\n",
    "\n",
    "me.add_income(2000, 'side hustle')\n",
    "me.add_expense(100, 'hike')\n",
    "me.add_expense(50, 'khaja')\n",
    "me.set_saving_goal(1000)\n",
    "me.view_summary()"
   ]
  },
  {
   "cell_type": "code",
   "execution_count": 17,
   "metadata": {},
   "outputs": [
    {
     "name": "stdout",
     "output_type": "stream",
     "text": [
      "\n",
      "--- Finance Manager ---\n",
      "1. Add Income\n",
      "2. Add Expense\n",
      "3. Set Saving Goal\n",
      "4. View Summary\n",
      "5. Exit\n",
      "Added 10000.0 to savings\n",
      "\n",
      "--- Finance Manager ---\n",
      "1. Add Income\n",
      "2. Add Expense\n",
      "3. Set Saving Goal\n",
      "4. View Summary\n",
      "5. Exit\n",
      "Spent 2000.0 from savings\n",
      "\n",
      "--- Finance Manager ---\n",
      "1. Add Income\n",
      "2. Add Expense\n",
      "3. Set Saving Goal\n",
      "4. View Summary\n",
      "5. Exit\n"
     ]
    }
   ],
   "source": [
    "fm = FinanceManager()\n",
    "\n",
    "def display_menu():\n",
    "    print(\"\\n--- Finance Manager ---\")\n",
    "    print(\"1. Add Income\")\n",
    "    print(\"2. Add Expense\")\n",
    "    print(\"3. Set Saving Goal\")\n",
    "    print(\"4. View Summary\")\n",
    "    print(\"5. Exit\")\n",
    "    return input(\"Choose an option: \")\n",
    "\n",
    "while True:\n",
    "    choice = display_menu()\n",
    "    \n",
    "    if choice == '1':\n",
    "        amount = float(input(\"Enter income amount: \"))\n",
    "        description = input(\"Enter income description: \")\n",
    "        fm.add_income(amount, description)\n",
    "    elif choice == '2':\n",
    "        amount = float(input(\"Enter expense amount: \"))\n",
    "        description = input(\"Enter expense description: \")\n",
    "        fm.add_expense(amount, description)\n",
    "    elif choice == '3':\n",
    "        amount = float(input(\"Enter saving goal amount: \"))\n",
    "        fm.set_saving_goal(amount)\n",
    "    elif choice == '4':\n",
    "        fm.view_summary()\n",
    "    elif choice == '5':\n",
    "        print(\"Exiting Finance Manager.\")\n",
    "        break\n",
    "    else:\n",
    "        print(\"Invalid choice. Please try again.\")"
   ]
  }
 ],
 "metadata": {
  "kernelspec": {
   "display_name": "base",
   "language": "python",
   "name": "python3"
  },
  "language_info": {
   "codemirror_mode": {
    "name": "ipython",
    "version": 3
   },
   "file_extension": ".py",
   "mimetype": "text/x-python",
   "name": "python",
   "nbconvert_exporter": "python",
   "pygments_lexer": "ipython3",
   "version": "3.12.7"
  }
 },
 "nbformat": 4,
 "nbformat_minor": 2
}
