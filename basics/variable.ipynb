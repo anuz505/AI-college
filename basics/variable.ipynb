{
 "cells": [
  {
   "cell_type": "markdown",
   "metadata": {},
   "source": [
    "# Variable Scope\n",
    " Variable scope refers to the region of the code where a variable is recognized and can be accessed. In Python, there are four main types of variable scopes:\n",
    "\n",
    "Local Scope\n",
    "Enclosing Scope\n",
    "Global Scope\n",
    "Built-in Scope\n"
   ]
  },
  {
   "cell_type": "markdown",
   "metadata": {},
   "source": [
    "## Local Scope\n",
    "A variable declared inside a function is in the local scope. It can only be accessed within that function."
   ]
  },
  {
   "cell_type": "code",
   "execution_count": null,
   "metadata": {},
   "outputs": [],
   "source": [
    "def my_function():\n",
    "    local_var = 10  # Local scope\n",
    "    print(local_var)\n",
    "\n",
    "my_function()\n",
    "# print(local_var)  # This would raise a NameError"
   ]
  },
  {
   "cell_type": "markdown",
   "metadata": {},
   "source": [
    "## 2. Enclosing Scope\n",
    "This is also known as the nonlocal scope. It refers to the scope of any enclosing functions, excluding the global scope."
   ]
  },
  {
   "cell_type": "code",
   "execution_count": 4,
   "metadata": {},
   "outputs": [
    {
     "name": "stdout",
     "output_type": "stream",
     "text": [
      "30\n"
     ]
    }
   ],
   "source": [
    "def outer_function():\n",
    "    enclosing_var = 20  # Enclosing scope\n",
    "\n",
    "    def inner_function():\n",
    "        nonlocal enclosing_var  # Nonlocal scope\n",
    "        enclosing_var = 30\n",
    "        print(enclosing_var)  # Accessing enclosing variable\n",
    "\n",
    "    inner_function()\n",
    "\n",
    "outer_funrction()"
   ]
  },
  {
   "cell_type": "markdown",
   "metadata": {},
   "source": [
    "## Built-in Scope\n",
    "These are special variables that are part of the built-in namespace. They are always available in Python."
   ]
  },
  {
   "cell_type": "code",
   "execution_count": 2,
   "metadata": {},
   "outputs": [
    {
     "name": "stdout",
     "output_type": "stream",
     "text": [
      "5\n"
     ]
    }
   ],
   "source": [
    "print(len(\"Hello\"))  # 'len' is a built-in function"
   ]
  },
  {
   "cell_type": "markdown",
   "metadata": {},
   "source": []
  }
 ],
 "metadata": {
  "kernelspec": {
   "display_name": "base",
   "language": "python",
   "name": "python3"
  },
  "language_info": {
   "codemirror_mode": {
    "name": "ipython",
    "version": 3
   },
   "file_extension": ".py",
   "mimetype": "text/x-python",
   "name": "python",
   "nbconvert_exporter": "python",
   "pygments_lexer": "ipython3",
   "version": "3.12.7"
  }
 },
 "nbformat": 4,
 "nbformat_minor": 2
}
