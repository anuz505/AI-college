{
 "cells": [
  {
   "cell_type": "markdown",
   "metadata": {},
   "source": [
    "# Question 1"
   ]
  },
  {
   "cell_type": "code",
   "execution_count": 3,
   "metadata": {},
   "outputs": [
    {
     "name": "stdout",
     "output_type": "stream",
     "text": [
      "18\n",
      "20\n"
     ]
    }
   ],
   "source": [
    "class Rectangle:\n",
    "    def __init__(self,length,width):\n",
    "        self.length = length   \n",
    "        self.width = width\n",
    "\n",
    "    def perimeter(self):\n",
    "            return 2*(self.length+self.width)\n",
    "        \n",
    "    def area(self):\n",
    "            return self.length*self.width\n",
    "\n",
    "\n",
    "rectangle1 = Rectangle(4,5)\n",
    "print(rectangle1.perimeter())\n",
    "print(rectangle1.area())"
   ]
  },
  {
   "cell_type": "code",
   "execution_count": 6,
   "metadata": {},
   "outputs": [
    {
     "name": "stdout",
     "output_type": "stream",
     "text": [
      "Anuj Bhandari\n",
      "90\n",
      "passed\n"
     ]
    }
   ],
   "source": [
    "class Student:\n",
    "    def __init__(self, name, marks):\n",
    "        self.name = name\n",
    "        self.marks = marks\n",
    "\n",
    "    def display(self):\n",
    "        print(self.name)\n",
    "        print(self.marks)\n",
    "\n",
    "    def is_passed(self,marks):\n",
    "        if self.marks >= 40:\n",
    "            print(\"passed\")\n",
    "        else:\n",
    "            print(\"failed\")\n",
    "\n",
    "student1 = Student(\"Anuj Bhandari\", 90)\n",
    "student1.display()\n",
    "student1.is_passed(90)"
   ]
  },
  {
   "cell_type": "code",
   "execution_count": 13,
   "metadata": {},
   "outputs": [
    {
     "name": "stdout",
     "output_type": "stream",
     "text": [
      "Amount withdrawn: 200\n",
      "Amount deposited: 500\n",
      "1234\n",
      "1300\n",
      "Anuj Bhandari\n"
     ]
    }
   ],
   "source": [
    "class BankAccount:\n",
    "    def __init__(self, account_no, balance, name):\n",
    "        self.account_no = account_no\n",
    "        self.balance = balance\n",
    "        self.name = name\n",
    "\n",
    "    def deposit(self, amount):\n",
    "        self.balance += amount\n",
    "        return (f\"Amount deposited: {amount}\")\n",
    "    \n",
    "    def withdraw(self, amount):\n",
    "        if self.balance < amount:\n",
    "            print(\"Insufficient balance\")\n",
    "        else:\n",
    "            self.balance -= amount\n",
    "            return (f\"Amount withdrawn: {amount}\")\n",
    "    \n",
    "    def display(self):\n",
    "        print(self.account_no)\n",
    "        print(self.balance)\n",
    "        print(self.name)\n",
    "\n",
    "myAcc = BankAccount(1234, 1000, \"Anuj Bhandari\")\n",
    "print(myAcc.withdraw(200))\n",
    "print(myAcc.deposit(500))\n",
    "myAcc.display()"
   ]
  },
  {
   "cell_type": "code",
   "execution_count": 18,
   "metadata": {},
   "outputs": [
    {
     "name": "stdout",
     "output_type": "stream",
     "text": [
      "Toyota\n",
      "Corolla\n",
      "2019\n",
      "4\n",
      "Petrol\n"
     ]
    }
   ],
   "source": [
    "class Vehicle:\n",
    "    def __init__(self,brand,model):\n",
    "        self.brand = brand\n",
    "        self.model = model\n",
    "\n",
    "class Car(Vehicle):\n",
    "    def __init__(self,brand,model,year,number_of_doors,fuel_type):\n",
    "        super().__init__(brand,model)\n",
    "        self.year = year\n",
    "        self.number_of_doors = number_of_doors\n",
    "        self.fuel_type = fuel_type\n",
    "\n",
    "    def display(self):\n",
    "        print(self.brand)\n",
    "        print(self.model)\n",
    "        print(self.year)\n",
    "        print(self.number_of_doors)\n",
    "        print(self.fuel_type)\n",
    "\n",
    "Vehicle1 = Vehicle(\"Toyota\",\"Corolla\")\n",
    "car1 = Car(Vehicle1.brand,Vehicle1.model,2019,4,\"Petrol\")\n",
    "car1.display()"
   ]
  },
  {
   "cell_type": "code",
   "execution_count": 21,
   "metadata": {},
   "outputs": [
    {
     "name": "stdout",
     "output_type": "stream",
     "text": [
      "Bark\n",
      "Meow\n"
     ]
    }
   ],
   "source": [
    "class Animal:\n",
    "    def __init__(self,name):\n",
    "        self.name = name\n",
    "\n",
    "    def sound(self):\n",
    "        pass\n",
    "\n",
    "class Dog(Animal):\n",
    "    def __init__(self,name):\n",
    "        super().__init__(name)\n",
    "\n",
    "    def sound(self):\n",
    "        print(\"Bark\")\n",
    "\n",
    "class Cat(Animal):\n",
    "    def __init__(self,name):\n",
    "        super().__init__(name)\n",
    "\n",
    "    def sound(self):\n",
    "        print(\"Meow\")\n",
    "\n",
    "dog1 = Dog(\"casoer\")\n",
    "dog1.sound()\n",
    "\n",
    "cat1 = Cat(\"noob\")\n",
    "cat1.sound()"
   ]
  },
  {
   "cell_type": "code",
   "execution_count": 23,
   "metadata": {},
   "outputs": [
    {
     "name": "stdout",
     "output_type": "stream",
     "text": [
      "Name: Sandesh Suman, Age: 30\n",
      "Job Title: Teacher, Salary: 50000\n",
      "Subject: Deep Learning\n"
     ]
    }
   ],
   "source": [
    "class Person:\n",
    "    def __init__(self, name, age):\n",
    "        self.name = name\n",
    "        self.age = age\n",
    "\n",
    "    def display_person(self):\n",
    "        print(f\"Name: {self.name}, Age: {self.age}\")\n",
    "\n",
    "class Worker:\n",
    "    def __init__(self, job_title, salary):\n",
    "        self.job_title = job_title\n",
    "        self.salary = salary\n",
    "\n",
    "    def display_worker(self):\n",
    "        print(f\"Job Title: {self.job_title}, Salary: {self.salary}\")\n",
    "\n",
    "class Teacher(Person, Worker):\n",
    "    def __init__(self, name, age, job_title, salary, subject):\n",
    "        Person.__init__(self, name, age)\n",
    "        Worker.__init__(self, job_title, salary)\n",
    "        self.subject = subject\n",
    "\n",
    "    def display_teacher(self):\n",
    "        self.display_person()\n",
    "        self.display_worker()\n",
    "        print(f\"Subject: {self.subject}\")\n",
    "\n",
    "teacher1 = Teacher(\"Sandesh Suman\", 30, \"Teacher\", 50000, \"Deep Learning\")\n",
    "teacher1.display_teacher()"
   ]
  },
  {
   "cell_type": "code",
   "execution_count": 24,
   "metadata": {},
   "outputs": [
    {
     "name": "stdout",
     "output_type": "stream",
     "text": [
      "15\n",
      "5\n",
      "50\n",
      "2.0\n",
      "Error! Division by zero.\n"
     ]
    }
   ],
   "source": [
    "class Calculator:\n",
    "    def add(self, a, b):\n",
    "        return a + b\n",
    "\n",
    "    def subtract(self, a, b):\n",
    "        return a - b\n",
    "\n",
    "    def multiply(self, a, b):\n",
    "        return a * b\n",
    "\n",
    "    def divide(self, a, b):\n",
    "        if b == 0:\n",
    "            return \"Error! Division by zero.\"\n",
    "        else:\n",
    "            return a / b\n",
    "\n",
    "# Example usage\n",
    "calc = Calculator()\n",
    "print(calc.add(10, 5))\n",
    "print(calc.subtract(10, 5))\n",
    "print(calc.multiply(10, 5))\n",
    "print(calc.divide(10, 5))\n",
    "print(calc.divide(10, 0))"
   ]
  },
  {
   "cell_type": "code",
   "execution_count": 26,
   "metadata": {},
   "outputs": [
    {
     "name": "stdout",
     "output_type": "stream",
     "text": [
      "Title: The Great Gatsby\n",
      "Author: abc\n",
      "Price: $18.00\n"
     ]
    }
   ],
   "source": [
    "class Book:\n",
    "    discount = 0.1  \n",
    "\n",
    "    def __init__(self, title, author, price):\n",
    "        self.title = title\n",
    "        self.author = author\n",
    "        self.price = price\n",
    "\n",
    "    def apply_discount(self):\n",
    "        self.price = self.price * (1 - Book.discount)\n",
    "\n",
    "    def display(self):\n",
    "        print(f\"Title: {self.title}\")\n",
    "        print(f\"Author: {self.author}\")\n",
    "        print(f\"Price: ${self.price:.2f}\")\n",
    "\n",
    "\n",
    "book1 = Book(\"The Great Gatsby\", \"abc\", 20.00)\n",
    "book1.apply_discount()\n",
    "book1.display()"
   ]
  },
  {
   "cell_type": "code",
   "execution_count": null,
   "metadata": {},
   "outputs": [],
   "source": []
  }
 ],
 "metadata": {
  "kernelspec": {
   "display_name": "base",
   "language": "python",
   "name": "python3"
  },
  "language_info": {
   "codemirror_mode": {
    "name": "ipython",
    "version": 3
   },
   "file_extension": ".py",
   "mimetype": "text/x-python",
   "name": "python",
   "nbconvert_exporter": "python",
   "pygments_lexer": "ipython3",
   "version": "3.12.7"
  }
 },
 "nbformat": 4,
 "nbformat_minor": 2
}
