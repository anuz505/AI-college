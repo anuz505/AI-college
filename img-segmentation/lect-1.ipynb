{
 "cells": [
  {
   "cell_type": "code",
   "execution_count": 2,
   "metadata": {},
   "outputs": [
    {
     "name": "stdout",
     "output_type": "stream",
     "text": [
      "4.10.0\n"
     ]
    }
   ],
   "source": [
    "import cv2\n",
    "import numpy as np\n",
    "print(cv2.__version__)\n"
   ]
  },
  {
   "cell_type": "code",
   "execution_count": 11,
   "metadata": {},
   "outputs": [
    {
     "name": "stdout",
     "output_type": "stream",
     "text": [
      "[[[ 73  38  18]\n",
      "  [ 69  34  14]\n",
      "  [ 68  33  13]\n",
      "  ...\n",
      "  [ 52  38  39]\n",
      "  [ 63  50  42]\n",
      "  [ 65  52  38]]\n",
      "\n",
      " [[ 67  31  13]\n",
      "  [ 69  34  14]\n",
      "  [ 73  37  19]\n",
      "  ...\n",
      "  [ 62  46  47]\n",
      "  [ 51  35  29]\n",
      "  [ 53  36  27]]\n",
      "\n",
      " [[ 63  29  13]\n",
      "  [ 70  37  18]\n",
      "  [ 77  43  27]\n",
      "  ...\n",
      "  [ 67  49  50]\n",
      "  [ 63  42  41]\n",
      "  [ 65  42  40]]\n",
      "\n",
      " ...\n",
      "\n",
      " [[216 213 208]\n",
      "  [216 213 208]\n",
      "  [216 213 208]\n",
      "  ...\n",
      "  [218 215 211]\n",
      "  [221 213 214]\n",
      "  [221 213 214]]\n",
      "\n",
      " [[219 216 211]\n",
      "  [219 216 211]\n",
      "  [219 216 211]\n",
      "  ...\n",
      "  [218 215 211]\n",
      "  [221 213 214]\n",
      "  [221 213 214]]\n",
      "\n",
      " [[215 212 207]\n",
      "  [216 213 208]\n",
      "  [216 213 208]\n",
      "  ...\n",
      "  [220 217 213]\n",
      "  [223 215 216]\n",
      "  [223 215 216]]]\n"
     ]
    }
   ],
   "source": [
    "img = cv2.imread('download.jpeg')\n",
    "print(img)"
   ]
  },
  {
   "cell_type": "code",
   "execution_count": null,
   "metadata": {},
   "outputs": [],
   "source": [
    "img = cv2.resize(img,(800,400))\n",
    "img = cv2.cvtColor(img, cv2.COLOR_BGR2GRAY) #BGR format to Gray\n",
    "cv2.imshow('original', img)\n",
    "cv2.waitKey(0)\n",
    "cv2.destroyAllWindows()"
   ]
  },
  {
   "cell_type": "code",
   "execution_count": 27,
   "metadata": {},
   "outputs": [],
   "source": [
    "# roi = img y1:y2, x1:x2\n",
    "roi= img[100:400, 230:550]\n",
    "cv2.imshow('roi', roi)\n",
    "cv2.waitKey(0)\n",
    "cv2.destroyAllWindows()"
   ]
  },
  {
   "cell_type": "code",
   "execution_count": null,
   "metadata": {},
   "outputs": [],
   "source": []
  }
 ],
 "metadata": {
  "kernelspec": {
   "display_name": "base",
   "language": "python",
   "name": "python3"
  },
  "language_info": {
   "codemirror_mode": {
    "name": "ipython",
    "version": 3
   },
   "file_extension": ".py",
   "mimetype": "text/x-python",
   "name": "python",
   "nbconvert_exporter": "python",
   "pygments_lexer": "ipython3",
   "version": "3.12.7"
  }
 },
 "nbformat": 4,
 "nbformat_minor": 2
}
